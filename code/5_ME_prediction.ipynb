{
 "cells": [
  {
   "cell_type": "code",
   "execution_count": 10,
   "id": "c205568e-ab10-4fd5-be78-f16287a5c540",
   "metadata": {},
   "outputs": [],
   "source": [
    "import pandas as pd\n",
    "import warnings\n",
    "\n",
    "warnings.filterwarnings('ignore')"
   ]
  },
  {
   "cell_type": "code",
   "execution_count": 27,
   "id": "e5fb0bac-617e-4234-8512-9ab4af0a2ef5",
   "metadata": {},
   "outputs": [],
   "source": [
    "file_path1 = r\"G:\\fly\\dataframe_data\\classification.csv\"\n",
    "file_path2 = r\"G:\\code\\BrainParcellation-main\\BrainParcellation-main\\microenviron\\data\\mefeatures_100K.csv\"\n",
    "file_path3 = r\"G:\\fly\\dataframe_data\\proj_ccf-me_test_copy.csv\"\n",
    "file_path4 = r\"G:\\fly\\dataframe_data\\proj_test_copy.csv\"\n",
    "SER_path = r\"G:\\fly\\dataframe_data\\SER.csv\"\n",
    "ACH_path = r\"G:\\fly\\dataframe_data\\ACH.csv\"\n",
    "DA_path = r\"G:\\fly\\dataframe_data\\DA.csv\"\n",
    "GABA_path = r\"G:\\fly\\dataframe_data\\GABA.csv\"\n",
    "GLUT_path = r\"G:\\fly\\dataframe_data\\GLUT.csv\"\n",
    "OCT_path = r\"G:\\fly\\dataframe_data\\OCT.csv\"\n",
    "\n",
    "df = pd.read_csv(file_path1)\n",
    "me_feature_df = pd.read_csv(file_path2)\n",
    "\n",
    "visual_df = df[df['class'] == 'visual']\n",
    "visual_df1 = visual_df[visual_df['cell_type'] == 'R1-6']\n",
    "visual_df1['function'] = 'R1-6'\n",
    "visual_df2 = visual_df[visual_df['cell_type'] == 'ocellar_retinula_cell']\n",
    "visual_df2['function'] = 'ocellar_retinula_cell'\n",
    "visual_df3 = visual_df[visual_df['cell_type'] == 'R7']\n",
    "visual_df3['function'] = 'R7'\n",
    "visual_df4 = visual_df[visual_df['cell_type'] == 'R8']\n",
    "visual_df4['function'] = 'R8'\n",
    "olfactory_df = df[df['class'] == 'olfactory']\n",
    "olfactory_df['function'] = 'olfactory'\n",
    "mechano_df = df[df['class'] == 'mechanosensory']\n",
    "mechano_df['function'] = 'mechanosensory'\n",
    "gustatory_df = df[df['class'] == 'gustatory']\n",
    "gustatory_df['function'] = 'gustatory'\n",
    "hygros_df = df[df['class'] == 'hygrosensory']\n",
    "hygros_df['function'] = 'hygrosensory'\n",
    "thermo_df = df[df['class'] == 'thermosensory']\n",
    "thermo_df['function'] = 'thermosensory'\n",
    "motor_df = df[df['super_class'] == 'motor']\n",
    "motor_df['function'] = 'motor'\n",
    "ocellar_df = df[df['super_class'] == 'optic']\n",
    "ocellar_df['function'] = 'optic'\n",
    "\n",
    "\n",
    "#visual_df, olfactory_df, mechano_df, gustatory_df, hygros_df, thermo_df, motor_df\n",
    "combined_df = pd.concat([visual_df1, visual_df2, visual_df3, visual_df4, olfactory_df, mechano_df, gustatory_df, hygros_df, thermo_df, motor_df])\n",
    "merged_df = pd.merge(combined_df[['Name','function']], me_feature_df, on='Name', how='left')\n",
    "merged_df = merged_df.dropna()\n",
    "\n",
    "me_columns = [col for col in merged_df.columns if col.endswith('_me')]\n",
    "single_columns = [item.replace('_me', '') for item in me_columns]\n",
    "#ccf_me_columns = proj_ccf_me_df.select_dtypes(include=['number']).columns.tolist()\n",
    "#ccf_me_columns = [col for col in ccf_me_columns if col != 'Name']\n",
    "#ccf_columns = proj_ccf_df.select_dtypes(include=['number']).columns.tolist()\n",
    "#ccf_columns = [col for col in ccf_columns if col != 'Name']\n",
    "#ccf-me\n",
    "# merged_df2 = pd.merge(combined_df[['Name','function']], proj_ccf_me_df, on='Name', how='left')\n",
    "# merged_df2 = merged_df2.dropna()\n",
    "#ccf\n",
    "# merged_df3 = pd.merge(combined_df[['Name','function']], proj_ccf_df, on='Name', how='left')\n",
    "# merged_df3 = merged_df3.dropna()"
   ]
  },
  {
   "cell_type": "code",
   "execution_count": 12,
   "id": "ab228442-b9bc-4d5e-83d0-3b9036c2bae9",
   "metadata": {},
   "outputs": [
    {
     "data": {
      "text/plain": [
       "function\n",
       "R1-6                     8452\n",
       "mechanosensory           2648\n",
       "olfactory                2281\n",
       "R7                       1342\n",
       "R8                       1324\n",
       "gustatory                 343\n",
       "ocellar_retinula_cell     273\n",
       "motor                     106\n",
       "hygrosensory               74\n",
       "thermosensory              29\n",
       "Name: count, dtype: int64"
      ]
     },
     "execution_count": 12,
     "metadata": {},
     "output_type": "execute_result"
    }
   ],
   "source": [
    "combined_df['function'].value_counts()"
   ]
  },
  {
   "cell_type": "code",
   "execution_count": 13,
   "id": "18432902-f0b1-4a81-87fe-9ebdfcaa1a92",
   "metadata": {},
   "outputs": [
    {
     "data": {
      "text/plain": [
       "function\n",
       "R1-6                     5477\n",
       "olfactory                1422\n",
       "R7                       1020\n",
       "R8                        954\n",
       "mechanosensory            778\n",
       "ocellar_retinula_cell     233\n",
       "gustatory                 130\n",
       "motor                     106\n",
       "hygrosensory               49\n",
       "thermosensory              29\n",
       "Name: count, dtype: int64"
      ]
     },
     "execution_count": 13,
     "metadata": {},
     "output_type": "execute_result"
    }
   ],
   "source": [
    "merged_df['function'].value_counts()"
   ]
  },
  {
   "cell_type": "code",
   "execution_count": 35,
   "id": "cb9ff4ba-19ee-438e-9617-ca0cb50d952d",
   "metadata": {},
   "outputs": [],
   "source": [
    "import plotly.express as px\n",
    "import umap\n",
    "from sklearn.preprocessing import StandardScaler\n",
    "from sklearn.cluster import KMeans\n",
    "\n",
    "type = 'single'\n",
    "\n",
    "if type==\"me\":\n",
    "    df_features = merged_df[me_columns + ['function']]\n",
    "    scaler = StandardScaler()\n",
    "    df_features_scaled = scaler.fit_transform(df_features[me_columns])\n",
    "else:\n",
    "    df_features = merged_df[single_columns + ['function']]\n",
    "    scaler = StandardScaler()\n",
    "    df_features_scaled = scaler.fit_transform(df_features[single_columns])\n",
    "\n",
    "umap_model = umap.UMAP(\n",
    "    n_neighbors=30,         \n",
    "    min_dist=0.1,           \n",
    "    n_components=2,         \n",
    "    metric='euclidean',     \n",
    "    learning_rate=0.3,      \n",
    "    spread=1,               \n",
    "    random_state=None,      \n",
    "    set_op_mix_ratio=1,       \n",
    "    local_connectivity=1,     \n",
    "    angular_rp_forest=False,  \n",
    "    init='spectral',        \n",
    "    verbose=False           \n",
    ")\n",
    "\n",
    "\n",
    "umap_features = umap_model.fit_transform(df_features_scaled)\n",
    "\n",
    "df_features['UMAP1'] = umap_features[:, 0]\n",
    "df_features['UMAP2'] = umap_features[:, 1]\n",
    "df_features[['function', 'UMAP1', 'UMAP2']].to_csv(r'G:\\manuscript\\figure5\\single_UMAP.csv', index=False)\n",
    "\n"
   ]
  }
 ],
 "metadata": {
  "kernelspec": {
   "display_name": "Python 3 (ipykernel)",
   "language": "python",
   "name": "python3"
  },
  "language_info": {
   "codemirror_mode": {
    "name": "ipython",
    "version": 3
   },
   "file_extension": ".py",
   "mimetype": "text/x-python",
   "name": "python",
   "nbconvert_exporter": "python",
   "pygments_lexer": "ipython3",
   "version": "3.10.14"
  }
 },
 "nbformat": 4,
 "nbformat_minor": 5
}
