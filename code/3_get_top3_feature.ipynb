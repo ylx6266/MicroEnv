{
 "cells": [
  {
   "cell_type": "code",
   "execution_count": 9,
   "id": "302e27de-81b0-4603-ac29-a0e43de5749a",
   "metadata": {},
   "outputs": [],
   "source": [
    "import os\n",
    "import pandas as pd\n",
    "from tqdm import tqdm\n",
    "import pymrmr\n",
    "from sklearn.preprocessing import StandardScaler"
   ]
  },
  {
   "cell_type": "markdown",
   "id": "722f489a-697c-4971-835f-6f9a80e5be6d",
   "metadata": {},
   "source": [
    "## MRMR"
   ]
  },
  {
   "cell_type": "code",
   "execution_count": 10,
   "id": "eb60b5b7-4323-4196-9394-94c9da1fda7e",
   "metadata": {},
   "outputs": [],
   "source": [
    "csv_file = r'G:\\fly\\dataframe_data\\mefeatures_100K.csv'\n",
    "df_mefeature = pd.read_csv(csv_file, dtype={1:str})\n",
    "merged_df1 = df_mefeature.dropna()\n",
    "\n",
    "features = merged_df1[['region_id','Stems_me','Bifurcations_me','Branches_me','Tips_me','OverallWidth_me','OverallHeight_me','OverallDepth_me',\n",
    "                       'Length_me','Volume_me','MaxEuclideanDistance_me','MaxPathDistance_me','MaxBranchOrder_me','AverageContraction_me',\n",
    "                       'AverageFragmentation_me','AverageParent-daughterRatio_me','AverageBifurcationAngleLocal_me','AverageBifurcationAngleRemote_me',\n",
    "                       'HausdorffDimension_me','pca_vr1_me','pca_vr2_me','pca_vr3_me','pc11_me','pc12_me','pc13_me']]\n",
    "# Converting to float32 for better compatibility\n",
    "features = features.astype('float32')\n",
    "\n",
    "# Scaling the features\n",
    "scaler = StandardScaler()\n",
    "features_scaled = scaler.fit_transform(features)\n",
    "\n",
    "# Convert the scaled features back to a DataFrame\n",
    "features_scaled_df = pd.DataFrame(features_scaled, columns=features.columns)\n",
    "\n",
    "# Run mRMR on the scaled DataFrame\n",
    "mr_MID = pymrmr.mRMR(features_scaled_df, 'MID', 3)\n",
    "mr_MIQ = pymrmr.mRMR(features_scaled_df, 'MIQ', 3)"
   ]
  },
  {
   "cell_type": "code",
   "execution_count": 12,
   "id": "02f4a7c9-55cb-4e68-a93a-e13a4e68cf29",
   "metadata": {},
   "outputs": [
    {
     "data": {
      "text/plain": [
       "['AverageFragmentation_me', 'pca_vr1_me', 'Stems_me']"
      ]
     },
     "execution_count": 12,
     "metadata": {},
     "output_type": "execute_result"
    }
   ],
   "source": [
    "mr_MID"
   ]
  },
  {
   "cell_type": "code",
   "execution_count": 11,
   "id": "a009be99-1b09-4bb0-8f87-97160469b87f",
   "metadata": {},
   "outputs": [
    {
     "data": {
      "text/plain": [
       "['AverageFragmentation_me', 'pca_vr1_me', 'Stems_me']"
      ]
     },
     "execution_count": 11,
     "metadata": {},
     "output_type": "execute_result"
    }
   ],
   "source": [
    "mr_MIQ"
   ]
  }
 ],
 "metadata": {
  "kernelspec": {
   "display_name": "Python 3 (ipykernel)",
   "language": "python",
   "name": "python3"
  },
  "language_info": {
   "codemirror_mode": {
    "name": "ipython",
    "version": 3
   },
   "file_extension": ".py",
   "mimetype": "text/x-python",
   "name": "python",
   "nbconvert_exporter": "python",
   "pygments_lexer": "ipython3",
   "version": "3.10.14"
  }
 },
 "nbformat": 4,
 "nbformat_minor": 5
}
