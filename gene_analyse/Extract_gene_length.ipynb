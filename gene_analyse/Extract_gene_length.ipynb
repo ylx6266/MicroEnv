{
 "cells": [
  {
   "cell_type": "code",
   "execution_count": 1,
   "id": "87c26af5-d27b-4c7c-86ac-7e58d5c5edf3",
   "metadata": {},
   "outputs": [],
   "source": [
    "import pandas as pd"
   ]
  },
  {
   "cell_type": "code",
   "execution_count": 4,
   "id": "7f34a818-aa10-4d5b-b5da-851e40b865b8",
   "metadata": {},
   "outputs": [],
   "source": [
    "gtf_file = \"Drosophila_melanogaster.BDGP6.46.111.gtf\"\n",
    "\n",
    "def parse_gtf(gtf_path):\n",
    "    gene_lengths = {}\n",
    "    with open(gtf_path) as f:\n",
    "        for line in f:\n",
    "            if line.startswith(\"#\"):\n",
    "                continue\n",
    "            fields = line.strip().split(\"\\t\")\n",
    "            if fields[2] != \"exon\":\n",
    "                continue\n",
    "            chrom, source, feature, start, end, score, strand, frame, attr = fields\n",
    "            start, end = int(start), int(end)\n",
    "            gene_id = None\n",
    "            for a in attr.strip().split(\";\"):\n",
    "                if \"gene_id\" in a:\n",
    "                    gene_id = a.strip().split(\" \")[1].strip('\"')\n",
    "                    break\n",
    "            if gene_id:\n",
    "                gene_lengths.setdefault(gene_id, []).append((start, end))\n",
    "    \n",
    "    gene_total_lengths = {}\n",
    "    for gene_id, intervals in gene_lengths.items():\n",
    "        intervals.sort()\n",
    "        merged = []\n",
    "        for start, end in intervals:\n",
    "            if not merged or merged[-1][1] < start:\n",
    "                merged.append([start, end])\n",
    "            else:\n",
    "                merged[-1][1] = max(merged[-1][1], end)\n",
    "        total_len = sum(e - s + 1 for s, e in merged)\n",
    "        gene_total_lengths[gene_id] = total_len\n",
    "    \n",
    "    return pd.DataFrame.from_dict(gene_total_lengths, orient=\"index\", columns=[\"Length\"]).rename_axis(\"GeneID\").reset_index()"
   ]
  },
  {
   "cell_type": "code",
   "execution_count": 5,
   "id": "fd96440e-ee7a-4eaa-af30-6b49b2ba3af2",
   "metadata": {},
   "outputs": [],
   "source": [
    "df_lengths = parse_gtf(gtf_file)\n",
    "df_lengths.to_csv(\"gene_lengths.csv\", index=False)"
   ]
  }
 ],
 "metadata": {
  "kernelspec": {
   "display_name": "Python 3 (ipykernel)",
   "language": "python",
   "name": "python3"
  },
  "language_info": {
   "codemirror_mode": {
    "name": "ipython",
    "version": 3
   },
   "file_extension": ".py",
   "mimetype": "text/x-python",
   "name": "python",
   "nbconvert_exporter": "python",
   "pygments_lexer": "ipython3",
   "version": "3.10.14"
  }
 },
 "nbformat": 4,
 "nbformat_minor": 5
}
